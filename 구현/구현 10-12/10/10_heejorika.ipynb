{
 "cells": [
  {
   "cell_type": "code",
   "execution_count": 31,
   "metadata": {},
   "outputs": [],
   "source": [
    "lock_arr = [[1,1,1], [1,1,0], [1,0,1]]\n",
    "key_arr = [[0,0,0],[1,0,0],[0,1,1]]"
   ]
  },
  {
   "cell_type": "code",
   "execution_count": 32,
   "metadata": {},
   "outputs": [],
   "source": [
    "def selectCoord(num, list): # 0 or 1의 값이 든 자리의 좌표를 찾아 반환\n",
    "    coord_list = []\n",
    "    for i in range(len(list)):\n",
    "        for j in range(len(list)):\n",
    "            if list[i][j]==num: coord_list.append([i,j])\n",
    "    return coord_list"
   ]
  },
  {
   "cell_type": "code",
   "execution_count": 33,
   "metadata": {},
   "outputs": [],
   "source": [
    "def selectCoordXorY(coord, list):  # coord가 0이면 X좌표, 1이면 Y좌표임. coord에 입력한 좌표만 반환함\n",
    "    return [i[coord] for i in list]"
   ]
  },
  {
   "cell_type": "code",
   "execution_count": 34,
   "metadata": {},
   "outputs": [],
   "source": [
    "import numpy as np\n",
    "\n",
    "def rotate90(list): \n",
    "    numpyList = np.array(list)  # 넘파이 배열로 변환\n",
    "    rotateList = np.rot90(numpyList, 3)  # 시계방향으로 90도\n",
    "    return rotateList.tolist()"
   ]
  },
  {
   "cell_type": "code",
   "execution_count": 35,
   "metadata": {},
   "outputs": [],
   "source": [
    "def compareAB(a_list, b_list): # a리스트의 특징(lock)과 b리스트(key)의 특징이 유사한지. \n",
    "    # ex) a_list = lock리스트의 x좌표 리스트, b_list = key 리스트의 x좌표 리스트 \n",
    "    for i in range(1, len(a_list)):\n",
    "        p, c = i-1, i \n",
    "        a_CminusP = a_list[c] - a_list[p] \n",
    "        b_CminusP = b_list[c] - b_list[p] \n",
    "        \n",
    "        if a_CminusP != b_CminusP: return False\n",
    "    return True"
   ]
  },
  {
   "cell_type": "code",
   "execution_count": 36,
   "metadata": {},
   "outputs": [],
   "source": [
    "# lock은 고정임\n",
    "lock_zero = selectCoord(0, lock_arr) # lock에서 홈인 부분 저장\n",
    "lock_zeroX = selectCoordXorY(0, lock_zero)  # lock에서 좌표 x만 저장\n",
    "lock_zeroY = selectCoordXorY(1, lock_zero)  # lock에서 좌표 y만 저장"
   ]
  },
  {
   "cell_type": "code",
   "execution_count": 38,
   "metadata": {},
   "outputs": [
    {
     "name": "stdout",
     "output_type": "stream",
     "text": [
      "[[0, 1, 0], [1, 0, 0], [1, 0, 0]]\n"
     ]
    }
   ],
   "source": [
    "rotate_key_arr = list(key_arr)\n",
    "for i in range(4): # 90도 회전하는 횟수는 3회임. 0번(0도)와 4번(360도)이므로 한 번만 해도 충분\n",
    "    rotate_key_arr = rotate90(rotate_key_arr)\n",
    "    #print(rotate_key_arr)\n",
    "    \n",
    "    key_one = selectCoord(1, rotate_key_arr)  # key에서 돌기인 부분 저장\n",
    "    key_oneX = selectCoordXorY(0, key_one); key_oneY = selectCoordXorY(1, key_one)\n",
    "    if compareAB(lock_zeroX, key_oneX) and compareAB(lock_zeroY, key_oneY):\n",
    "        print(rotate_key_arr)\n",
    "        break"
   ]
  },
  {
   "cell_type": "code",
   "execution_count": null,
   "metadata": {},
   "outputs": [],
   "source": []
  }
 ],
 "metadata": {
  "kernelspec": {
   "display_name": "base",
   "language": "python",
   "name": "python3"
  },
  "language_info": {
   "codemirror_mode": {
    "name": "ipython",
    "version": 3
   },
   "file_extension": ".py",
   "mimetype": "text/x-python",
   "name": "python",
   "nbconvert_exporter": "python",
   "pygments_lexer": "ipython3",
   "version": "3.9.7"
  },
  "orig_nbformat": 4,
  "vscode": {
   "interpreter": {
    "hash": "f08154012ddadd8e950e6e9e035c7a7b32c136e7647e9b7c77e02eb723a8bedb"
   }
  }
 },
 "nbformat": 4,
 "nbformat_minor": 2
}
