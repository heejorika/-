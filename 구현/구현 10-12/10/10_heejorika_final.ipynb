{
 "cells": [
  {
   "cell_type": "code",
   "execution_count": 2,
   "metadata": {},
   "outputs": [],
   "source": [
    "class keyAndLock:\n",
    "    def __init__(self, key, lock):\n",
    "        self.key, self.lock = key, lock\n",
    "    \n",
    "    #2차원 리스트 90도 회전\n",
    "    def rotate_a_matrix_by_90_degree(self, matrix):\n",
    "        row, col = len(matrix), len(matrix[0])  # 행, 열\n",
    "        result=[[0]*row for _ in range(col)]    # 빈 행렬 만들기\n",
    "        \n",
    "        for r in range(row):\n",
    "            for c in range(col): result[c][row-r-1]=matrix[r][c]\n",
    "                \n",
    "        return result\n",
    "    \n",
    "    # 자물쇠의 중간 부분이 모두 1인지 확인\n",
    "    def openTheLock(self, new_lock):\n",
    "        lock_length = len(new_lock)//3 # new_lock은 기존 lock*3임. 중앙에 있는 진짜 lock만 보기 위함\n",
    "        \n",
    "        for i in range(lock_length, lock_length*2):\n",
    "            for j in range(lock_length, lock_length*2):\n",
    "                if new_lock[i][j]!=1: # 1이 아닌 경우= 돌기끼리 부딪혔거나, 열쇠 홈이 맞지 않을 때\n",
    "                    return False\n",
    "        return True"
   ]
  },
  {
   "cell_type": "code",
   "execution_count": null,
   "metadata": {},
   "outputs": [],
   "source": []
  }
 ],
 "metadata": {
  "kernelspec": {
   "display_name": "base",
   "language": "python",
   "name": "python3"
  },
  "language_info": {
   "codemirror_mode": {
    "name": "ipython",
    "version": 3
   },
   "file_extension": ".py",
   "mimetype": "text/x-python",
   "name": "python",
   "nbconvert_exporter": "python",
   "pygments_lexer": "ipython3",
   "version": "3.9.7"
  },
  "orig_nbformat": 4,
  "vscode": {
   "interpreter": {
    "hash": "f08154012ddadd8e950e6e9e035c7a7b32c136e7647e9b7c77e02eb723a8bedb"
   }
  }
 },
 "nbformat": 4,
 "nbformat_minor": 2
}
