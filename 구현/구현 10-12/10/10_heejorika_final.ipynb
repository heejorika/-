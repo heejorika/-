{
 "cells": [
  {
   "cell_type": "code",
   "execution_count": 1,
   "metadata": {},
   "outputs": [],
   "source": [
    "class keyAndLock:\n",
    "    def __init__(self, key, lock):\n",
    "        self.key, self.lock = key, lock\n",
    "    \n",
    "    #2차원 리스트 90도 회전\n",
    "    def rotate_a_matrix_by_90_degree(self, matrix):\n",
    "        row, col = len(matrix), len(matrix[0])  # 행, 열\n",
    "        result=[[0]*row for _ in range(col)]    # 빈 행렬 만들기\n",
    "        \n",
    "        for r in range(row):\n",
    "            for c in range(col): result[c][row-r-1]=matrix[r][c]\n",
    "                \n",
    "        return result\n",
    "    \n"
   ]
  },
  {
   "cell_type": "code",
   "execution_count": null,
   "metadata": {},
   "outputs": [],
   "source": []
  }
 ],
 "metadata": {
  "kernelspec": {
   "display_name": "base",
   "language": "python",
   "name": "python3"
  },
  "language_info": {
   "codemirror_mode": {
    "name": "ipython",
    "version": 3
   },
   "file_extension": ".py",
   "mimetype": "text/x-python",
   "name": "python",
   "nbconvert_exporter": "python",
   "pygments_lexer": "ipython3",
   "version": "3.9.7"
  },
  "orig_nbformat": 4,
  "vscode": {
   "interpreter": {
    "hash": "f08154012ddadd8e950e6e9e035c7a7b32c136e7647e9b7c77e02eb723a8bedb"
   }
  }
 },
 "nbformat": 4,
 "nbformat_minor": 2
}
