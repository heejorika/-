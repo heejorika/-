{
 "cells": [
  {
   "cell_type": "code",
   "execution_count": 2,
   "metadata": {},
   "outputs": [],
   "source": [
    "class keyAndLock:\n",
    "    def __init__(self, key, lock):\n",
    "        self.key, self.lock = key, lock\n",
    "        self.new_lock = None\n",
    "    \n",
    "    #2차원 리스트 90도 회전\n",
    "    def rotate_a_matrix_by_90_degree(self, matrix):\n",
    "        row, col = len(matrix), len(matrix[0])  # 행, 열\n",
    "        result=[[0]*row for _ in range(col)]    # 빈 행렬 만들기\n",
    "        \n",
    "        for r in range(row):\n",
    "            for c in range(col): result[c][row-r-1]=matrix[r][c]\n",
    "                \n",
    "        return result\n",
    "    \n",
    "    # 자물쇠의 중간 부분이 모두 1인지 확인\n",
    "    def openTheLock(self, new_lock):\n",
    "        lock_length = len(new_lock)//3 # new_lock은 기존 lock*3임. 중앙에 있는 진짜 lock만 보기 위함\n",
    "        \n",
    "        for i in range(lock_length, lock_length*2):\n",
    "            for j in range(lock_length, lock_length*2):\n",
    "                if new_lock[i][j]!=1: # 1이 아닌 경우= 돌기끼리 부딪혔거나, 열쇠 홈이 맞지 않을 때\n",
    "                    return False\n",
    "        return True\n",
    "    \n",
    "    # ex) 3*3 자물쇠를 9*9 자물쇠로 변경\n",
    "    def makeNewLock(self, lock_length):\n",
    "        new_lock = [[0]*(lock_length*3)for _ in range(lock_length*3)]  # 자물쇠의 크기를 기존의 3배로 변환\n",
    "\n",
    "        # 새로운 자물쇠의 중앙 부분에 기존의 자물쇠 넣기\n",
    "        for i in range(lock_length):\n",
    "            for j in range(lock_length):\n",
    "                new_lock[i+lock_length][j+lock_length]=self.lock[i][j]\n",
    "                \n",
    "        return new_lock\n",
    "    \n",
    "    def solution(self):\n",
    "        lock_length, key_length = len(self.lock), len(self.key)  \n",
    "        self.new_lock = self.makeNewLock(lock_length)  # ex) 3*3 자물쇠를 9*9 자물쇠로 변경\n",
    "        \n",
    "        # 4가지 방향에 대해서 확인       \n",
    "        for rotaion in range(4):\n",
    "            key =self.rotate_a_matrix_by_90_degree(self.key)\n",
    "            for x in range(n*2): # 자물쇠\n",
    "                for y in range(n*2):\n",
    "                    for i in range(m): # 열쇠\n",
    "                        for j in range(m):\n",
    "                            new_lock[x+i][y+j]+=key[i][j] # 모두 +해서 2가 나오면 돌기와 돌기끼리 부딪힌 거\n",
    "                            print(x+i, y+j, i, j)\n",
    "                    \n",
    "                    # 새로운 자물쇠에 열쇠가 정확히 들어맞는지 검사 \n",
    "                    if check(new_lock)==True:\n",
    "                        return True\n",
    "                    \n",
    "                    # 자물쇠에서 열쇠를 다시 빼기\n",
    "                    for i in range(m):\n",
    "                        for j in range(m):\n",
    "                            new_lock[x+i][y+j]-=key[i][j]\n",
    "        return False"
   ]
  },
  {
   "cell_type": "code",
   "execution_count": null,
   "metadata": {},
   "outputs": [],
   "source": [
    "key = [[0,0,0],[1,0,0],[0,1,1]]\n",
    "lock = [[1,1,1],[1,1,0],[1,0,1]]\n",
    "test = keyAndLock(key, lock)\n",
    "test.solution()"
   ]
  }
 ],
 "metadata": {
  "kernelspec": {
   "display_name": "base",
   "language": "python",
   "name": "python3"
  },
  "language_info": {
   "codemirror_mode": {
    "name": "ipython",
    "version": 3
   },
   "file_extension": ".py",
   "mimetype": "text/x-python",
   "name": "python",
   "nbconvert_exporter": "python",
   "pygments_lexer": "ipython3",
   "version": "3.9.7"
  },
  "orig_nbformat": 4,
  "vscode": {
   "interpreter": {
    "hash": "f08154012ddadd8e950e6e9e035c7a7b32c136e7647e9b7c77e02eb723a8bedb"
   }
  }
 },
 "nbformat": 4,
 "nbformat_minor": 2
}
